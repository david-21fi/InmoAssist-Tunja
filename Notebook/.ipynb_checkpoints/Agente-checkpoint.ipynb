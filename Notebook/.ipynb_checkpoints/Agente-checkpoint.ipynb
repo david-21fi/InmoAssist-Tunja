{
 "cells": [
  {
   "cell_type": "code",
   "execution_count": 5,
   "metadata": {},
   "outputs": [],
   "source": [
    "import os\n",
    "import json\n",
    "import gradio as gr\n",
    "from dotenv import load_dotenv\n",
    "from openai import OpenAI\n",
    "import sqlite3"
   ]
  },
  {
   "cell_type": "code",
   "execution_count": 6,
   "metadata": {},
   "outputs": [
    {
     "name": "stdout",
     "output_type": "stream",
     "text": [
      "OpenAI API Key exists and begins sk-proj-\n"
     ]
    }
   ],
   "source": [
    "# Inicialización\n",
    "\n",
    "load_dotenv()\n",
    "\n",
    "openai_api_key = os.getenv('OPENAI_API_KEY')\n",
    "if openai_api_key:\n",
    "    print(f\"OpenAI API Key exists and begins {openai_api_key[:8]}\")\n",
    "else:\n",
    "    print(\"OpenAI API Key sin configurar\")\n",
    "    \n",
    "MODEL = \"gpt-4o-mini\"\n",
    "openai = OpenAI()\n"
   ]
  },
  {
   "cell_type": "code",
   "execution_count": 9,
   "metadata": {},
   "outputs": [],
   "source": [
    "system_message = \"Eres un asistente útil para una inmobiliaria de Tunja Boyaca llamada MetroCuadrado. \"\n",
    "system_message += \"Da respuestas breves y corteses, de no más de una oración. \"\n",
    "system_message += \"Se siempre preciso. Si no sabes la respuesta, dilo.\""
   ]
  },
  {
   "cell_type": "markdown",
   "metadata": {},
   "source": [
    "## Herramientas "
   ]
  },
  {
   "cell_type": "code",
   "execution_count": 34,
   "metadata": {},
   "outputs": [],
   "source": [
    "\n",
    "from typing import Optional, List, Union\n",
    "import pandas as pd\n",
    "import sqlite3\n",
    "from pydantic import BaseModel\n",
    "\n",
    "# Definición del modelo Pydantic para validación de parámetros\n",
    "class SQLiteQueryParams(BaseModel):\n",
    "    tabla: str\n",
    "    columnas: Union[str, List[str]] = \"*\"\n",
    "    condiciones: Optional[str] = None\n",
    "\n",
    "def consulta_filtrada(\n",
    "    tabla: str,\n",
    "    columnas: Union[str, List[str]] = \"*\",\n",
    "    condiciones: Optional[str] = None\n",
    ") -> pd.DataFrame:\n",
    "    \"\"\"\n",
    "    Realiza una consulta filtrada en una base de datos SQLite.\n",
    "    \"\"\"\n",
    "    conn = sqlite3.connect('../inmuebles.db')\n",
    "    if isinstance(columnas, list):\n",
    "        columnas = \", \".join(columnas)\n",
    "    \n",
    "    consulta = f\"SELECT {columnas} FROM {tabla}\"\n",
    "    if condiciones:\n",
    "        consulta += f\" WHERE {condiciones}\"\n",
    "    \n",
    "    try:\n",
    "        df = pd.read_sql_query(consulta, conn)\n",
    "        return df\n",
    "    except Exception as e:\n",
    "        print(f\"Error al realizar la consulta: {e}\")\n",
    "        return pd.DataFrame()\n",
    "\n",
    "# Definición de la herramienta para OpenAI\n",
    "sqlite_tool = [{\n",
    "    \"type\": \"function\",\n",
    "    \"function\": {\n",
    "        \"name\": \"consulta_filtrada\",\n",
    "        \"description\": \"Realiza consultas filtradas en una base de datos SQLite\",\n",
    "        \"parameters\": {\n",
    "            \"type\": \"object\",\n",
    "            \"properties\": {\n",
    "                \"tabla\": {\n",
    "                    \"type\": \"string\",\n",
    "                    \"description\": \"Nombre de la tabla a consultar\",\n",
    "                    \"default\":\"property\"\n",
    "                },\n",
    "                \"columnas\": {\n",
    "                    \"type\": [\"string\", \"array\"],\n",
    "                    \"items\": {\n",
    "                        \"type\": \"string\"\n",
    "                    },\n",
    "                    \"description\": \"Columnas a seleccionar. Puede ser '*' o una lista de nombres de columnas\",\n",
    "                    \"default\": \"*\"\n",
    "                },\n",
    "                \"condiciones\": {\n",
    "                    \"type\": \"string\",\n",
    "                    \"description\": \"\"\"Condiciones SQL para filtrar las filas (ejemplo: SELECT * FROM property WHERE baños =3 AND\n",
    "                    barrio_comun = 'las quintas' AND baños =3 AND estrato= 4 AND area_construida > 200 AND estado = 'venta_casa')\"\"\",\n",
    "                    \"default\": None\n",
    "                }\n",
    "            },\n",
    "            \"required\": [\"tabla\"]\n",
    "        }\n",
    "    }\n",
    "}]\n"
   ]
  },
  {
   "cell_type": "code",
   "execution_count": 38,
   "metadata": {},
   "outputs": [],
   "source": [
    "def handle_tool_call(message):\n",
    "    tool_call = message.tool_calls[0]\n",
    "    arguments = json.loads(tool_call.function.arguments)\n",
    "    print(arguments)\n",
    "    tabla = arguments.get('tabla')\n",
    "    columnas = arguments.get('columnas')\n",
    "    condiciones = arguments.get('condiciones')\n",
    "    dataframe = consulta_filtrada(tabla,columnas,condiciones)\n",
    "    if dataframe is not None:\n",
    "        response = {\n",
    "            \"role\": \"tool\",\n",
    "            \"content\": dataframe.to_json(orient='records'),\n",
    "            \"tool_call_id\": message.tool_calls[0].id\n",
    "        }\n",
    "    else:\n",
    "        response = {\n",
    "            \"role\": \"tool\",\n",
    "            \"content\": json.dumps({\"error\": \"No se encontro considencias.\"}),\n",
    "            \"tool_call_id\": message.tool_calls[0].id\n",
    "        }\n",
    "    \n",
    "    return response"
   ]
  },
  {
   "cell_type": "markdown",
   "metadata": {},
   "source": [
    "## Open Ai"
   ]
  },
  {
   "cell_type": "code",
   "execution_count": 41,
   "metadata": {},
   "outputs": [],
   "source": [
    "def chat(history):\n",
    "    messages = [{\"role\": \"system\", \"content\": system_message}] + history\n",
    "    response = openai.chat.completions.create(model=MODEL, messages=messages, tools=sqlite_tool)\n",
    "    image = None\n",
    "    \n",
    "    if response.choices[0].finish_reason==\"tool_calls\":\n",
    "        message = response.choices[0].message\n",
    "        response= handle_tool_call(message)\n",
    "        messages.append(message)\n",
    "        messages.append(response)\n",
    "        #image = artist(city)\n",
    "        response = openai.chat.completions.create(model=MODEL, messages=messages)\n",
    "        \n",
    "    reply = response.choices[0].message.content\n",
    "    history += [{\"role\":\"assistant\", \"content\":reply}]\n",
    "\n",
    "    # Comenta o elimina la siguiente línea si prefiere omitir el audio por ahora.\n",
    "    #talker(reply)\n",
    "    \n",
    "    return history"
   ]
  },
  {
   "cell_type": "code",
   "execution_count": 45,
   "metadata": {},
   "outputs": [
    {
     "name": "stdout",
     "output_type": "stream",
     "text": [
      "* Running on local URL:  http://127.0.0.1:7871\n",
      "\n",
      "To create a public link, set `share=True` in `launch()`.\n"
     ]
    },
    {
     "data": {
      "text/html": [
       "<div><iframe src=\"http://127.0.0.1:7871/\" width=\"100%\" height=\"500\" allow=\"autoplay; camera; microphone; clipboard-read; clipboard-write;\" frameborder=\"0\" allowfullscreen></iframe></div>"
      ],
      "text/plain": [
       "<IPython.core.display.HTML object>"
      ]
     },
     "metadata": {},
     "output_type": "display_data"
    },
    {
     "data": {
      "text/plain": []
     },
     "execution_count": 45,
     "metadata": {},
     "output_type": "execute_result"
    },
    {
     "name": "stdout",
     "output_type": "stream",
     "text": [
      "{'tabla': 'property', 'columnas': '*', 'condiciones': \"habitaciones = 3 AND barrio_comun = 'las nieves' AND precio < 500000000\"}\n",
      "{'tabla': 'property', 'columnas': '*', 'condiciones': \"habitaciones=3 AND barrio_comun='las nieves' AND precio<500000000\"}\n",
      "{'tabla': 'property', 'columnas': '*', 'condiciones': \"tipo='apartamento' AND barrio_comun='las nieves' AND precio<500000000\"}\n",
      "Error al realizar la consulta: Execution failed on sql 'SELECT * FROM property WHERE tipo='apartamento' AND barrio_comun='las nieves' AND precio<500000000': no such column: tipo\n"
     ]
    }
   ],
   "source": [
    "# Código Gradio más complejo, ya que no estamos usando la interfaz de chat predeterminada.\n",
    "# Si pasamos inbrowser=True en la última línea, aparecerá inmediatamente una ventana Gradio.\n",
    "\n",
    "with gr.Blocks() as ui:\n",
    "    with gr.Row():\n",
    "        chatbot = gr.Chatbot(height=500, type=\"messages\")\n",
    "        image_output = gr.Image('../image/tunja.png',height=500,interactive=False)\n",
    "    with gr.Row():\n",
    "        entry = gr.Textbox(label=\"Chatea con nuestro Agente de IA:\")\n",
    "    with gr.Row():\n",
    "        clear = gr.Button(\"Clear\")\n",
    "\n",
    "    def do_entry(message, history):\n",
    "        history += [{\"role\":\"user\", \"content\":message}]\n",
    "        return \"\", history\n",
    "\n",
    "    entry.submit(do_entry, inputs=[entry, chatbot], outputs=[entry, chatbot]).then(\n",
    "        chat, inputs=chatbot, outputs=[chatbot]\n",
    "    )\n",
    "    clear.click(lambda: None, inputs=None, outputs=chatbot, queue=False)\n",
    "\n",
    "ui.launch(inbrowser=True)"
   ]
  },
  {
   "cell_type": "code",
   "execution_count": 29,
   "metadata": {},
   "outputs": [
    {
     "name": "stdout",
     "output_type": "stream",
     "text": [
      "* Running on local URL:  http://127.0.0.1:7869\n",
      "\n",
      "To create a public link, set `share=True` in `launch()`.\n"
     ]
    },
    {
     "data": {
      "text/html": [
       "<div><iframe src=\"http://127.0.0.1:7869/\" width=\"100%\" height=\"500\" allow=\"autoplay; camera; microphone; clipboard-read; clipboard-write;\" frameborder=\"0\" allowfullscreen></iframe></div>"
      ],
      "text/plain": [
       "<IPython.core.display.HTML object>"
      ]
     },
     "metadata": {},
     "output_type": "display_data"
    },
    {
     "data": {
      "text/plain": []
     },
     "execution_count": 29,
     "metadata": {},
     "output_type": "execute_result"
    }
   ],
   "source": [
    "with gr.Blocks() as demo:\n",
    "    with gr.Group():\n",
    "        with gr.Column(scale=1):\n",
    "            imagen = gr.Image('../image/tunja.png',width=250,height=250,interactive=False)\n",
    "        with gr.Column(scale=2):\n",
    "            btn1 = gr.Button(\"Button 1\")\n",
    "            btn2 = gr.Button(\"Button 2\")\n",
    "demo.launch(inbrowser=True)"
   ]
  },
  {
   "cell_type": "code",
   "execution_count": 43,
   "metadata": {},
   "outputs": [
    {
     "name": "stdout",
     "output_type": "stream",
     "text": [
      "* Running on local URL:  http://127.0.0.1:7869\n",
      "\n",
      "To create a public link, set `share=True` in `launch()`.\n"
     ]
    },
    {
     "data": {
      "text/html": [
       "<div><iframe src=\"http://127.0.0.1:7869/\" width=\"100%\" height=\"500\" allow=\"autoplay; camera; microphone; clipboard-read; clipboard-write;\" frameborder=\"0\" allowfullscreen></iframe></div>"
      ],
      "text/plain": [
       "<IPython.core.display.HTML object>"
      ]
     },
     "metadata": {},
     "output_type": "display_data"
    },
    {
     "data": {
      "text/plain": []
     },
     "execution_count": 43,
     "metadata": {},
     "output_type": "execute_result"
    }
   ],
   "source": [
    "# Función para manejar los mensajes del chat\n",
    "def do_entry(message, history):\n",
    "    history += [{\"role\": \"user\", \"content\": message}]\n",
    "    # Aquí puedes añadir la lógica para generar respuestas del chatbot\n",
    "    response = f\"Respuesta al mensaje: {message}\"  # Ejemplo simple\n",
    "    history += [{\"role\": \"assistant\", \"content\": response}]\n",
    "    return \"\", history\n",
    "\n",
    "# Creación de la interfaz\n",
    "with gr.Blocks() as ui:\n",
    "    # Primera fila: Chatbot e imagen fija lado a lado\n",
    "    with gr.Row():\n",
    "        # Columna para el chatbot\n",
    "        with gr.Column():\n",
    "            chatbot = gr.Chatbot(height=500, type=\"messages\")\n",
    "            # Caja de texto para entrada\n",
    "            entry = gr.Textbox(label=\"Chatea con nuestro Agente de IA:\")\n",
    "            # Botón de limpiar\n",
    "            clear = gr.Button(\"Clear\")\n",
    "        \n",
    "        # Columna para la imagen fija\n",
    "        with gr.Column():\n",
    "            # Puedes reemplazar \"path_to_your_image.jpg\" con la ruta a tu imagen\n",
    "            image = gr.Image(value=\"../image/tunja.png\", height=250,width=250,interactive=False)\n",
    "\n",
    "    # Configuración de eventos\n",
    "    entry.submit(\n",
    "        do_entry,\n",
    "        inputs=[entry, chatbot],\n",
    "        outputs=[entry, chatbot]\n",
    "    )\n",
    "    clear.click(lambda: None, None, chatbot, queue=False)\n",
    "\n",
    "# Lanzar la interfaz\n",
    "ui.launch()"
   ]
  },
  {
   "cell_type": "code",
   "execution_count": 35,
   "metadata": {},
   "outputs": [
    {
     "name": "stdout",
     "output_type": "stream",
     "text": [
      "* Running on local URL:  http://127.0.0.1:7874\n",
      "\n",
      "To create a public link, set `share=True` in `launch()`.\n"
     ]
    },
    {
     "data": {
      "text/html": [
       "<div><iframe src=\"http://127.0.0.1:7874/\" width=\"100%\" height=\"500\" allow=\"autoplay; camera; microphone; clipboard-read; clipboard-write;\" frameborder=\"0\" allowfullscreen></iframe></div>"
      ],
      "text/plain": [
       "<IPython.core.display.HTML object>"
      ]
     },
     "metadata": {},
     "output_type": "display_data"
    },
    {
     "data": {
      "text/plain": []
     },
     "execution_count": 35,
     "metadata": {},
     "output_type": "execute_result"
    }
   ],
   "source": [
    "import gradio as gr\n",
    "\n",
    "def image_classifier(inp):\n",
    "    return {'cat': 0.3, 'dog': 0.7}\n",
    "\n",
    "demo = gr.Interface(fn=image_classifier, inputs=\"image\", outputs=\"label\")\n",
    "demo.launch()"
   ]
  },
  {
   "cell_type": "code",
   "execution_count": 36,
   "metadata": {},
   "outputs": [
    {
     "name": "stdout",
     "output_type": "stream",
     "text": [
      "* Running on local URL:  http://127.0.0.1:7875\n",
      "\n",
      "To create a public link, set `share=True` in `launch()`.\n"
     ]
    },
    {
     "data": {
      "text/html": [
       "<div><iframe src=\"http://127.0.0.1:7875/\" width=\"100%\" height=\"500\" allow=\"autoplay; camera; microphone; clipboard-read; clipboard-write;\" frameborder=\"0\" allowfullscreen></iframe></div>"
      ],
      "text/plain": [
       "<IPython.core.display.HTML object>"
      ]
     },
     "metadata": {},
     "output_type": "display_data"
    }
   ],
   "source": [
    "import gradio as gr\n",
    "\n",
    "hello_world = gr.Interface(lambda name: \"Hello \" + name, \"text\", \"text\")\n",
    "bye_world = gr.Interface(lambda name: \"Bye \" + name, \"text\", \"text\")\n",
    "\n",
    "demo = gr.TabbedInterface([hello_world, bye_world], [\"Hello World\", \"Bye World\"])\n",
    "\n",
    "if __name__ == \"__main__\":\n",
    "    demo.launch()"
   ]
  },
  {
   "cell_type": "code",
   "execution_count": 37,
   "metadata": {},
   "outputs": [
    {
     "name": "stdout",
     "output_type": "stream",
     "text": [
      "* Running on local URL:  http://127.0.0.1:7876\n",
      "\n",
      "To create a public link, set `share=True` in `launch()`.\n"
     ]
    },
    {
     "data": {
      "text/html": [
       "<div><iframe src=\"http://127.0.0.1:7876/\" width=\"100%\" height=\"500\" allow=\"autoplay; camera; microphone; clipboard-read; clipboard-write;\" frameborder=\"0\" allowfullscreen></iframe></div>"
      ],
      "text/plain": [
       "<IPython.core.display.HTML object>"
      ]
     },
     "metadata": {},
     "output_type": "display_data"
    },
    {
     "data": {
      "text/plain": []
     },
     "execution_count": 37,
     "metadata": {},
     "output_type": "execute_result"
    }
   ],
   "source": [
    "import gradio as gr\n",
    "def update(name):\n",
    "    return f\"Welcome to Gradio, {name}!\"\n",
    "\n",
    "with gr.Blocks() as demo:\n",
    "    gr.Markdown(\"Start typing below and then click **Run** to see the output.\")\n",
    "    with gr.Row():\n",
    "        inp = gr.Textbox(placeholder=\"What is your name?\")\n",
    "        out = gr.Textbox()\n",
    "    btn = gr.Button(\"Run\")\n",
    "    btn.click(fn=update, inputs=inp, outputs=out)\n",
    "\n",
    "demo.launch()"
   ]
  },
  {
   "cell_type": "code",
   "execution_count": 38,
   "metadata": {},
   "outputs": [
    {
     "name": "stdout",
     "output_type": "stream",
     "text": [
      "* Running on local URL:  http://127.0.0.1:7877\n",
      "\n",
      "To create a public link, set `share=True` in `launch()`.\n"
     ]
    },
    {
     "data": {
      "text/html": [
       "<div><iframe src=\"http://127.0.0.1:7877/\" width=\"100%\" height=\"500\" allow=\"autoplay; camera; microphone; clipboard-read; clipboard-write;\" frameborder=\"0\" allowfullscreen></iframe></div>"
      ],
      "text/plain": [
       "<IPython.core.display.HTML object>"
      ]
     },
     "metadata": {},
     "output_type": "display_data"
    }
   ],
   "source": [
    "import gradio as gr\n",
    "\n",
    "def welcome(name):\n",
    "    return f\"Welcome to Gradio, {name}!\"\n",
    "\n",
    "with gr.Blocks() as demo:\n",
    "    gr.Markdown(\n",
    "    \"\"\"\n",
    "    # Hello World!\n",
    "    Start typing below to see the output.\n",
    "    \"\"\")\n",
    "    inp = gr.Textbox(placeholder=\"What is your name?\")\n",
    "    out = gr.Textbox()\n",
    "    inp.change(welcome, inp, out)\n",
    "\n",
    "if __name__ == \"__main__\":\n",
    "    demo.launch()"
   ]
  },
  {
   "cell_type": "code",
   "execution_count": 31,
   "metadata": {},
   "outputs": [],
   "source": [
    "class Propiedad:\n",
    "    def __init__(self, codigo, habitaciones, banos, estrato, area_construida, barrio, precio, antiguedad, valor_administracion, parqueaderos, estado):\n",
    "        self.codigo = codigo\n",
    "        self.habitaciones = habitaciones\n",
    "        self.banos = banos\n",
    "        self.estrato = estrato\n",
    "        self.area_construida = area_construida\n",
    "        self.barrio = barrio\n",
    "        self.precio = precio\n",
    "        self.antiguedad = antiguedad\n",
    "        self.valor_administracion = valor_administracion\n",
    "        self.parqueaderos = parqueaderos\n",
    "        self.estado = estado\n",
    "\n",
    "    def __str__(self):\n",
    "        return f\"Propiedad {self.codigo}: {self.estado} en {self.barrio} - ${self.precio}\"\n",
    "\n",
    "\n"
   ]
  },
  {
   "cell_type": "code",
   "execution_count": 26,
   "metadata": {},
   "outputs": [],
   "source": [
    "class Busqueda:\n",
    "    def __init__(self, habitaciones=None, banos=None, estrato=None,\n",
    "                  precio_max=None, barrio=None, estado=None):\n",
    "        self.habitaciones = habitaciones\n",
    "        self.banos = banos\n",
    "        self.estrato = estrato\n",
    "        self.precio_max = precio_max\n",
    "        self.barrio = barrio\n",
    "        self.estado = estado\n",
    "\n",
    "    def __str__(self):\n",
    "        return f\"Buscar {self.estado or 'propiedades'} con {self.habitaciones or 'cualquier'} habitaciones, {self.banos or 'cualquier'} baños, en el barrio {self.barrio or 'cualquier'}.\""
   ]
  },
  {
   "cell_type": "code",
   "execution_count": 27,
   "metadata": {},
   "outputs": [],
   "source": [
    "class Buscador:\n",
    "    def __init__(self, propiedades):\n",
    "        self.propiedades = propiedades\n",
    "\n",
    "    def buscar(self, criterios: Busqueda): # metodo de busqueda y herencia\n",
    "        resultados = self.propiedades\n",
    "        \n",
    "        if criterios.habitaciones:\n",
    "            resultados = [p for p in resultados if p.habitaciones >= criterios.habitaciones]\n",
    "        \n",
    "        if criterios.banos:\n",
    "            resultados = [p for p in resultados if p.banos >= criterios.banos]\n",
    "        \n",
    "        if criterios.estrato:\n",
    "            resultados = [p for p in resultados if p.estrato == criterios.estrato]\n",
    "        \n",
    "        if criterios.precio_max:\n",
    "            resultados = [p for p in resultados if p.precio <= criterios.precio_max]\n",
    "        \n",
    "        if criterios.barrio:\n",
    "            resultados = [p for p in resultados if p.barrio.lower() == criterios.barrio.lower()]\n",
    "        \n",
    "        if criterios.estado:\n",
    "            resultados = [p for p in resultados if p.estado.lower() == criterios.estado.lower()]\n",
    "        \n",
    "        return resultados"
   ]
  },
  {
   "cell_type": "code",
   "execution_count": 32,
   "metadata": {},
   "outputs": [
    {
     "name": "stdout",
     "output_type": "stream",
     "text": [
      "Resultados encontrados:\n",
      "Propiedad 1: apartamento en El Poblado - $500000000\n",
      "Propiedad 4: apartamento en El Poblado - $450000000\n"
     ]
    }
   ],
   "source": [
    "# Crear algunas propiedades de ejemplo\n",
    "propiedades = [\n",
    "    Propiedad(1, 3, 2, 4, 120, \"El Poblado\", 500000000, 10, 300000, 2, \"apartamento\"),\n",
    "    Propiedad(2, 2, 1, 3, 80, \"Envigado\", 300000000, 5, 150000, 1, \"apartamento\"),\n",
    "    Propiedad(3, 4, 3, 5, 200, \"Laureles\", 700000000, 15, 400000, 2, \"casa\"),\n",
    "    Propiedad(4, 3, 2, 4, 110, \"El Poblado\", 450000000, 8, 280000, 1, \"apartamento\"),\n",
    "]\n",
    "\n",
    "# Crear un motor de búsqueda\n",
    "buscador = Buscador(propiedades)\n",
    "\n",
    "# Definir los criterios de búsqueda\n",
    "criterios = Busqueda(habitaciones=3, precio_max=500000000, barrio=\"El Poblado\", estado=\"apartamento\")\n",
    "\n",
    "# Realizar la búsqueda\n",
    "resultados = buscador.buscar(criterios)\n",
    "\n",
    "# Mostrar los resultados\n",
    "print(\"Resultados encontrados:\")\n",
    "for propiedad in resultados:\n",
    "    print(propiedad)"
   ]
  },
  {
   "cell_type": "code",
   "execution_count": 4,
   "metadata": {},
   "outputs": [
    {
     "name": "stdout",
     "output_type": "stream",
     "text": [
      "name='vacio' color='red' weight=4.2 bazam={'foobar': [(1, True, 0.1)]}\n"
     ]
    }
   ],
   "source": [
    "from typing import Annotated, Literal\n",
    "\n",
    "from annotated_types import Gt\n",
    "\n",
    "from pydantic import BaseModel\n",
    "\n",
    "\n",
    "class Fruit(BaseModel):\n",
    "    name: str = \"vacio\"\n",
    "    color: Literal['red', 'green']  \n",
    "    weight: Annotated[float, Gt(0)]  \n",
    "    bazam: dict[str, list[tuple[int, bool, float]]]  \n",
    "\n",
    "\n",
    "print(\n",
    "    Fruit(\n",
    "        color='red',\n",
    "        weight=4.2,\n",
    "        bazam={'foobar': [(1, True, 0.1)]},\n",
    "    )\n",
    ")\n",
    "#> name='Apple' color='red' weight=4.2 bazam={'foobar': [(1, True, 0.1)]}"
   ]
  },
  {
   "cell_type": "code",
   "execution_count": null,
   "metadata": {},
   "outputs": [],
   "source": []
  }
 ],
 "metadata": {
  "kernelspec": {
   "display_name": "Python 3 (ipykernel)",
   "language": "python",
   "name": "python3"
  },
  "language_info": {
   "codemirror_mode": {
    "name": "ipython",
    "version": 3
   },
   "file_extension": ".py",
   "mimetype": "text/x-python",
   "name": "python",
   "nbconvert_exporter": "python",
   "pygments_lexer": "ipython3",
   "version": "3.11.11"
  }
 },
 "nbformat": 4,
 "nbformat_minor": 4
}
