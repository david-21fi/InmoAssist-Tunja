{
 "cells": [
  {
   "cell_type": "code",
   "execution_count": 1,
   "metadata": {},
   "outputs": [],
   "source": [
    "import pandas as pd\n",
    "import numpy as np\n",
    "import os\n",
    "import warnings\n",
    "warnings.filterwarnings('ignore')"
   ]
  },
  {
   "cell_type": "code",
   "execution_count": 4,
   "metadata": {},
   "outputs": [],
   "source": [
    "data=pd.read_csv('data/data_metro_cuadrado_p.csv')"
   ]
  },
  {
   "cell_type": "code",
   "execution_count": 5,
   "metadata": {},
   "outputs": [
    {
     "name": "stdout",
     "output_type": "stream",
     "text": [
      "<class 'pandas.core.frame.DataFrame'>\n",
      "RangeIndex: 220 entries, 0 to 219\n",
      "Data columns (total 13 columns):\n",
      " #   Column                Non-Null Count  Dtype  \n",
      "---  ------                --------------  -----  \n",
      " 0   Habitaciones          220 non-null    int64  \n",
      " 1   Baños                 220 non-null    int64  \n",
      " 2   Estrato               220 non-null    int64  \n",
      " 3   Área_construida       220 non-null    int64  \n",
      " 4   Código inmueble       220 non-null    object \n",
      " 5   Barrio común          218 non-null    object \n",
      " 6   Precio                220 non-null    int64  \n",
      " 7   Antigüedad            220 non-null    object \n",
      " 8   Área construida       220 non-null    int64  \n",
      " 9   Área privada          220 non-null    int64  \n",
      " 10  Valor administración  113 non-null    float64\n",
      " 11  Parqueaderos          176 non-null    float64\n",
      " 12  estado                211 non-null    object \n",
      "dtypes: float64(2), int64(7), object(4)\n",
      "memory usage: 22.5+ KB\n"
     ]
    }
   ],
   "source": [
    "data.info()"
   ]
  },
  {
   "cell_type": "code",
   "execution_count": 6,
   "metadata": {},
   "outputs": [
    {
     "data": {
      "text/html": [
       "<div>\n",
       "<style scoped>\n",
       "    .dataframe tbody tr th:only-of-type {\n",
       "        vertical-align: middle;\n",
       "    }\n",
       "\n",
       "    .dataframe tbody tr th {\n",
       "        vertical-align: top;\n",
       "    }\n",
       "\n",
       "    .dataframe thead th {\n",
       "        text-align: right;\n",
       "    }\n",
       "</style>\n",
       "<table border=\"1\" class=\"dataframe\">\n",
       "  <thead>\n",
       "    <tr style=\"text-align: right;\">\n",
       "      <th></th>\n",
       "      <th>Habitaciones</th>\n",
       "      <th>Baños</th>\n",
       "      <th>Estrato</th>\n",
       "      <th>Área_construida</th>\n",
       "      <th>Código inmueble</th>\n",
       "      <th>Barrio común</th>\n",
       "      <th>Precio</th>\n",
       "      <th>Antigüedad</th>\n",
       "      <th>Área construida</th>\n",
       "      <th>Área privada</th>\n",
       "      <th>Valor administración</th>\n",
       "      <th>Parqueaderos</th>\n",
       "      <th>estado</th>\n",
       "    </tr>\n",
       "  </thead>\n",
       "  <tbody>\n",
       "    <tr>\n",
       "      <th>0</th>\n",
       "      <td>5</td>\n",
       "      <td>3</td>\n",
       "      <td>4</td>\n",
       "      <td>386</td>\n",
       "      <td>16742-M4795726</td>\n",
       "      <td>Frente al Hotel hunza</td>\n",
       "      <td>1200000000</td>\n",
       "      <td>Más de 20 años</td>\n",
       "      <td>386</td>\n",
       "      <td>386</td>\n",
       "      <td>NaN</td>\n",
       "      <td>NaN</td>\n",
       "      <td>venta_casa</td>\n",
       "    </tr>\n",
       "    <tr>\n",
       "      <th>1</th>\n",
       "      <td>5</td>\n",
       "      <td>4</td>\n",
       "      <td>5</td>\n",
       "      <td>210</td>\n",
       "      <td>16742-M4795707</td>\n",
       "      <td>CONDOMINIO EL LAGO</td>\n",
       "      <td>800000000</td>\n",
       "      <td>Entre 10 y 20 años</td>\n",
       "      <td>210</td>\n",
       "      <td>210</td>\n",
       "      <td>253000.0</td>\n",
       "      <td>1.0</td>\n",
       "      <td>venta_casa</td>\n",
       "    </tr>\n",
       "    <tr>\n",
       "      <th>2</th>\n",
       "      <td>3</td>\n",
       "      <td>3</td>\n",
       "      <td>4</td>\n",
       "      <td>146</td>\n",
       "      <td>16742-M4795647</td>\n",
       "      <td>Tejarez del Norte</td>\n",
       "      <td>350000000</td>\n",
       "      <td>Entre 10 y 20 años</td>\n",
       "      <td>146</td>\n",
       "      <td>146</td>\n",
       "      <td>230000.0</td>\n",
       "      <td>1.0</td>\n",
       "      <td>venta_casa</td>\n",
       "    </tr>\n",
       "    <tr>\n",
       "      <th>3</th>\n",
       "      <td>5</td>\n",
       "      <td>5</td>\n",
       "      <td>4</td>\n",
       "      <td>480</td>\n",
       "      <td>13873-M3706524</td>\n",
       "      <td>Condominio Campestre Santa Elena</td>\n",
       "      <td>2000000000</td>\n",
       "      <td>Entre 10 y 20 años</td>\n",
       "      <td>480</td>\n",
       "      <td>480</td>\n",
       "      <td>352000.0</td>\n",
       "      <td>4.0</td>\n",
       "      <td>venta_casa</td>\n",
       "    </tr>\n",
       "    <tr>\n",
       "      <th>4</th>\n",
       "      <td>5</td>\n",
       "      <td>5</td>\n",
       "      <td>5</td>\n",
       "      <td>420</td>\n",
       "      <td>16742-M4796230</td>\n",
       "      <td>LA MARIA</td>\n",
       "      <td>1100000000</td>\n",
       "      <td>Más de 20 años</td>\n",
       "      <td>420</td>\n",
       "      <td>420</td>\n",
       "      <td>NaN</td>\n",
       "      <td>1.0</td>\n",
       "      <td>venta_casa</td>\n",
       "    </tr>\n",
       "  </tbody>\n",
       "</table>\n",
       "</div>"
      ],
      "text/plain": [
       "   Habitaciones  Baños  Estrato  Área_construida Código inmueble  \\\n",
       "0             5      3        4              386  16742-M4795726   \n",
       "1             5      4        5              210  16742-M4795707   \n",
       "2             3      3        4              146  16742-M4795647   \n",
       "3             5      5        4              480  13873-M3706524   \n",
       "4             5      5        5              420  16742-M4796230   \n",
       "\n",
       "                       Barrio común      Precio          Antigüedad  \\\n",
       "0             Frente al Hotel hunza  1200000000      Más de 20 años   \n",
       "1                CONDOMINIO EL LAGO   800000000  Entre 10 y 20 años   \n",
       "2                 Tejarez del Norte   350000000  Entre 10 y 20 años   \n",
       "3  Condominio Campestre Santa Elena  2000000000  Entre 10 y 20 años   \n",
       "4                          LA MARIA  1100000000      Más de 20 años   \n",
       "\n",
       "   Área construida  Área privada  Valor administración  Parqueaderos  \\\n",
       "0              386           386                   NaN           NaN   \n",
       "1              210           210              253000.0           1.0   \n",
       "2              146           146              230000.0           1.0   \n",
       "3              480           480              352000.0           4.0   \n",
       "4              420           420                   NaN           1.0   \n",
       "\n",
       "       estado  \n",
       "0  venta_casa  \n",
       "1  venta_casa  \n",
       "2  venta_casa  \n",
       "3  venta_casa  \n",
       "4  venta_casa  "
      ]
     },
     "execution_count": 6,
     "metadata": {},
     "output_type": "execute_result"
    }
   ],
   "source": [
    "data.head()"
   ]
  },
  {
   "cell_type": "code",
   "execution_count": 7,
   "metadata": {},
   "outputs": [
    {
     "data": {
      "text/plain": [
       "Habitaciones            0.000000\n",
       "Baños                   0.000000\n",
       "Estrato                 0.000000\n",
       "Área_construida         0.000000\n",
       "Código inmueble         0.000000\n",
       "Barrio común            0.009091\n",
       "Precio                  0.000000\n",
       "Antigüedad              0.000000\n",
       "Área construida         0.000000\n",
       "Área privada            0.000000\n",
       "Valor administración    0.486364\n",
       "Parqueaderos            0.200000\n",
       "estado                  0.040909\n",
       "dtype: float64"
      ]
     },
     "execution_count": 7,
     "metadata": {},
     "output_type": "execute_result"
    }
   ],
   "source": [
    "data.isnull().mean()"
   ]
  },
  {
   "cell_type": "code",
   "execution_count": null,
   "metadata": {},
   "outputs": [],
   "source": []
  }
 ],
 "metadata": {
  "kernelspec": {
   "display_name": "llms",
   "language": "python",
   "name": "python3"
  },
  "language_info": {
   "codemirror_mode": {
    "name": "ipython",
    "version": 3
   },
   "file_extension": ".py",
   "mimetype": "text/x-python",
   "name": "python",
   "nbconvert_exporter": "python",
   "pygments_lexer": "ipython3",
   "version": "3.11.11"
  }
 },
 "nbformat": 4,
 "nbformat_minor": 2
}
